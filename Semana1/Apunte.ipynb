{
  "nbformat": 4,
  "nbformat_minor": 0,
  "metadata": {
    "colab": {
      "provenance": [],
      "toc_visible": true,
      "authorship_tag": "ABX9TyMkqDEvUZajZyoe+HuogW5i",
      "include_colab_link": true
    },
    "kernelspec": {
      "name": "python3",
      "display_name": "Python 3"
    },
    "language_info": {
      "name": "python"
    }
  },
  "cells": [
    {
      "cell_type": "markdown",
      "metadata": {
        "id": "view-in-github",
        "colab_type": "text"
      },
      "source": [
        "<a href=\"https://colab.research.google.com/github/kathySagredo/TallerDeProgra-USS/blob/main/Semana1/Apunte.ipynb\" target=\"_parent\"><img src=\"https://colab.research.google.com/assets/colab-badge.svg\" alt=\"Open In Colab\"/></a>"
      ]
    },
    {
      "cell_type": "markdown",
      "source": [
        "# Introducción a las estructuras de datos\n",
        "\n",
        "Las estructuras de datos permiten almacenar, organizar y manipular información de forma eficiente. Los datos pueden organizarse en registros, que son conjuntos de variables almacenados en una sola ubicación, similares a compartimentos de un almacén.\n",
        "\n",
        "El diseño de una aplicación implica configurar estas estructuras de datos, a menudo organizadas de forma jerárquica, creando un modelo d edatos que incluye vairbales, algoritmos y parámetros.\n",
        "\n",
        "Existen dos grandes tipos de estructuras de datos:\n",
        "\n",
        "1. Estructuras estáticas: Como arrays (vectores), donde el tamaño se define desde el inicio.\n",
        "\n",
        "2. Estructuras dinámicas: Como listas ligadas, pilas y colas, que permiten añadir o eliminar elementos durante la ejecución.\n",
        "\n",
        "- Listas: Pueden ser simples, doblementes ligadas o circulares.\n",
        "\n",
        "- Pilas (LIFO): El último elemento añadido es el primero en salir.\n",
        "\n",
        "- Colas (FIFO): El primer elemento añadido es el primero en salir.\n",
        "\n",
        "Las listas ligadas, a diferencia de los arryas, gestionan la memoria de forma flexible, reservando solo el espacio necesario. Estas estructuras permiten resolver problemas complejos al organizar datos según las necesidades específicas del algoritmo.\n",
        "\n",
        "El estudio de estructuras de datos, vinculado a conceptos matemáticos como la topología, es crucial para optimizar el almacenamiento y procesamiento de información en programación.\n"
      ],
      "metadata": {
        "id": "W6U654qCr0GZ"
      }
    }
  ]
}