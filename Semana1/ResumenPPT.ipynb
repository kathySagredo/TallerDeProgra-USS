{
  "nbformat": 4,
  "nbformat_minor": 0,
  "metadata": {
    "colab": {
      "provenance": [],
      "authorship_tag": "ABX9TyN9+RSswgY/MYDT5yiGddm+",
      "include_colab_link": true
    },
    "kernelspec": {
      "name": "python3",
      "display_name": "Python 3"
    },
    "language_info": {
      "name": "python"
    }
  },
  "cells": [
    {
      "cell_type": "markdown",
      "metadata": {
        "id": "view-in-github",
        "colab_type": "text"
      },
      "source": [
        "<a href=\"https://colab.research.google.com/github/kathySagredo/TallerDeProgra-USS/blob/main/Semana1/ResumenPPT.ipynb\" target=\"_parent\"><img src=\"https://colab.research.google.com/assets/colab-badge.svg\" alt=\"Open In Colab\"/></a>"
      ]
    },
    {
      "cell_type": "markdown",
      "source": [
        "# Unidad 1: Algoritmo\n",
        "\n",
        "¿Qué es un programa?\n",
        "\n",
        "**Definición**: Un programa es una secuencia de instrucciones escritas en un lenguaje de programación que una computadora puede interpretar y ejecutar para realizar una tarea específica o resolver un problema. Los programas se componen de código fuente, que puede incluir comandos, variables, estructuras de control, funciones y otros elementos que definen cómo se debe llevar a cabo una tarea.\n",
        "\n",
        "Entrada de datos => Procesamiento => Salida de datos y almacenamiento."
      ],
      "metadata": {
        "id": "YaKasFT85hCo"
      }
    },
    {
      "cell_type": "markdown",
      "source": [
        "## Componentes claves de un programa\n",
        "\n",
        "- Instrucciones: Son las órdenes específicas que la computadora debe seguir para realizar una tarea. Pueden incluir cálculos, manipulaciones de datos, llamadas a funciones, entre otros.  \n",
        "\n",
        "- Variables: Son espacios en memoria donde se almacenan datos que el programa puede manipular y utilizar durante su ejecución. Las variables pueden ser de diferentes tipos, como enteros, cadenas de texto, flotantes, etc.\n",
        "\n",
        "- Estructuras de control: Son construcciones del lenguaje de programación que permiten modificar el flujo de ejecución del programa. Incluyen estructuras condicionales (if, else), bucles (for, while), y estructuras de salto (break, continue).\n",
        "\n",
        "- Funciones y procedimientos: Son bloques de código que realizan tareas específicas y pueden ser llamados en cualquier momento durante la ejecución del programa. Las funciones pueden recibir parámetros y devolver valores.\n",
        "\n",
        "- Comentarios: Son anotaciones en el código que ayudan a los programadores a entender y documentar el propósito y funcionamiento del programa. No son ejecutadas por la computadora.\n",
        "\n",
        "- Escritura del código fuente: Los programadores escriben el código en un lenguaje de programación, como Python, Java, C++, etc. Este código define las instrucciones que la computadora debe seguir.\n",
        "\n",
        "- Compilación/Interpretación: Dependiendo del lenguaje de programación, el código fuente es compilado (traducido a código máquina) o interpretado (ejecutado línea por línea) por un compilador o intérprete, respectivamente.\n",
        "\n",
        "- Ejecución: El código traducido o interpretado es ejecutado por la computadora. Durante esta fase, la computadora sigue las instrucciones del programa para realizar las tareas especificadas.\n",
        "\n",
        "- Depuración y pruebas: Los programadores prueban el programa para identificar y corregir errores (bugs). Esto puede implicar el uso de herramientas de depuración y pruebas unitarias para garantizar que el programa funcione correctamente.\n",
        "\n",
        "- Mantenimiento y actualización: Después de su implementación, los programas pueden requerir mantenimiento y actualizaciones para mejorar su funcionalidad, corregir errores o adaptarse a nuevos requisitos."
      ],
      "metadata": {
        "id": "7Wp0wPcj6bn2"
      }
    },
    {
      "cell_type": "markdown",
      "source": [
        "## Introducción a las estructuras de datos: arreglos, listas, pilas y colas\n",
        "\n",
        "1. Arreglos: Un arreglo es una estructura de datos que contiene un número de elementos, generalmente del mismo tipo (por ejemplo, enteros, flotante, booleanos, etc). Los elementos en un arreglo se acceden por su índice, es decir, su posición en el arreglo. Los arreglos pueden ser de una dimensión (unidimensional) o de varias dimensiones (multidimensional)."
      ],
      "metadata": {
        "id": "nDp3NEVf9P78"
      }
    },
    {
      "cell_type": "code",
      "source": [
        "Declarar arreglo[5] // Declara un arreglo de tamaño 5\n",
        "\n",
        "arreglo[0] = \"A\"\n",
        "arreglo[1] = \"B\"\n",
        "arreglo[2] = \"C\"\n",
        "arreglo[3] = \"D\"\n",
        "arreglo[4] = \"E\"\n",
        "\n",
        "Para i = 0 hasta 5 hacer:\n",
        "  Escribir arreglo[i]\n",
        "FinPara"
      ],
      "metadata": {
        "id": "T0U8X9LuFdzH"
      },
      "execution_count": null,
      "outputs": []
    },
    {
      "cell_type": "markdown",
      "source": [
        "2. Listas: Una lista es similar a un arreglo, pero es más flexible. Puede cambiar su tamaño durante la ejecución de un programa, y los elementos se pueden insertar o eliminar con relativa facilidad. La lista nos permite almacenar datos de una forma organizada, al igual que los vectores, pero, a diferencia de estos, esta estructura es dinámica, por lo que no tenemos que saber \"a priori\" los elementos que puede contener."
      ],
      "metadata": {
        "id": "WEbnef0FErzl"
      }
    },
    {
      "cell_type": "code",
      "source": [
        "Declarar lista\n",
        "Insertar \"A\" en lista\n",
        "Insertar \"B\" en lista\n",
        "Insertar \"C\" en lista\n",
        "\n",
        "Para cada elemento en lista hacer:\n",
        "  Escribir elemento\n",
        "FinPara"
      ],
      "metadata": {
        "id": "4NCPVMQAFlvl"
      },
      "execution_count": null,
      "outputs": []
    },
    {
      "cell_type": "code",
      "source": [
        "# Crear una lista vacia\n",
        "mi_lista = []\n",
        "\n",
        "# Agregar elementos a la lista\n",
        "mi_lista.append(10)\n",
        "mi_lista.append(20)\n",
        "mi_lista.append(30)\n",
        "\n",
        "# Accede a elementos de la lista por índice:\n",
        "print(\"Primer elemento:\", mi_lista[0])\n",
        "print(\"Segundo elemento:\", mi_lista[1])\n",
        "print(\"Tercer elemento:\", mi_lista[2])"
      ],
      "metadata": {
        "id": "VFCsLP2YGEOg"
      },
      "execution_count": null,
      "outputs": []
    },
    {
      "cell_type": "code",
      "source": [
        "# Eliminar elementos de la lista\n",
        "del mi_lista[0]\n",
        "print(\"Lista despues de eliminar el primer elemento:\", mi_lista)"
      ],
      "metadata": {
        "id": "nOEltEG8GvlP"
      },
      "execution_count": null,
      "outputs": []
    },
    {
      "cell_type": "code",
      "source": [
        "# Crear una lista con elementos predefinidos\n",
        "nombres = [\"Juan\", \"Maria\", \"Pedro\", \"Ana\"]"
      ],
      "metadata": {
        "id": "Sg9OfDv7G926"
      },
      "execution_count": null,
      "outputs": []
    },
    {
      "cell_type": "markdown",
      "source": [
        "3. Pila: Es una estructura de datos que sigue la regla Last In, First Out (LIFO). Esto significa que el último elemento que se añade a la pila será el primero en ser removido. Imagina una pila de libros: puedes añadir un libro a la cima de la pila (push) y puedes quitar un libro de la cima de la pila (pop)."
      ],
      "metadata": {
        "id": "t5wuA3kWF_KZ"
      }
    },
    {
      "cell_type": "code",
      "source": [
        "class Pila:\n",
        "  def __init__(self):\n",
        "    self.items = []\n",
        "  def apilar(self, elemento):\n",
        "    self.items.append(elemento)\n",
        "  def desapilar(self):\n",
        "    if not self.esta_vacia():\n",
        "      return self.items.pop()\n",
        "    else:\n",
        "      return None\n",
        "  def cima(self):\n",
        "    if not self.esta_vacia():\n",
        "      return self.items[-1]\n",
        "    else:\n",
        "      return None\n",
        "  def esta_vacia(self):\n",
        "    return len(self.items)==0\n",
        "\n",
        "# Crear una pila\n",
        "pila = Pila()\n",
        "\n",
        "# Agregar elementos a la pila\n",
        "pila.apilar(\"Manzana\")\n",
        "pila.apilar(\"Banana\")\n",
        "pila.apilar(\"Naranja\")\n",
        "\n",
        "# Obtener el elemento de la cima\n",
        "print(f\"Elemento de la cima:{pila.cima()}\") # Deberia ser Naranja\n",
        "\n",
        "# Eliminar el elemento de la cima\n",
        "pila.desapilar()\n",
        "\n",
        "# Obtener el nuevo elemento de la cima\n",
        "print(f\"Nuevo elemento de la cima: {pila.cima()}\") # Deberia ser Banana"
      ],
      "metadata": {
        "colab": {
          "base_uri": "https://localhost:8080/"
        },
        "id": "W_do29ZlHpWF",
        "outputId": "a8a6e3aa-20ad-4b34-e6fb-f71db8e36ef5"
      },
      "execution_count": 3,
      "outputs": [
        {
          "output_type": "stream",
          "name": "stdout",
          "text": [
            "Elemento de la cima:Naranja\n",
            "Nuevo elemento de la cima: Banana\n"
          ]
        }
      ]
    },
    {
      "cell_type": "markdown",
      "source": [
        "4. Colas: Es una estructura de datos que sigue la regla First In, First Out (FIFO). Esto significa que el primer elemento que se añade a la cola será el primero en ser removido. Imagina una cola de personas esperando en una línea: la primera persona que llega es la primera en ser atendida."
      ],
      "metadata": {
        "id": "7xgoVKqIJs2V"
      }
    },
    {
      "cell_type": "code",
      "source": [
        "Declarar cola\n",
        "Encolar \"A\" en cola\n",
        "Encolar \"B\" en cola\n",
        "Encolar \"C\" en cola\n",
        "\n",
        "Mientras cola no esté vacia hacer:\n",
        "  Escribir Desencolar de cola\n",
        "FinMientras"
      ],
      "metadata": {
        "id": "ec74gcLWKHRf"
      },
      "execution_count": null,
      "outputs": []
    },
    {
      "cell_type": "code",
      "source": [
        "from collections import deque\n",
        "# Crear una cola\n",
        "cola = deque()\n",
        "\n",
        "# Agregar elementos a la cola\n",
        "cola.append(\"Manzana\")\n",
        "cola.append(\"Banana\")\n",
        "cola.append(\"Naranja\")\n",
        "\n",
        "#  Obtener el elemento del frente\n",
        "print(f\"Elemento del frente:{cola[0]}\") # Deberia ser \"Manzana\"\n",
        "\n",
        "# Eliminar el elemento del frente\n",
        "cola.popleft()\n",
        "\n",
        "# Obtener el nuevo elemneto del frente\n",
        "print(f\"Nuevo elemento del frente: {cola[0]}\") # Deberia ser \"Banana\""
      ],
      "metadata": {
        "colab": {
          "base_uri": "https://localhost:8080/"
        },
        "id": "LrdRcnt-Knia",
        "outputId": "ae136a35-add8-4666-f8d2-e97633d331c6"
      },
      "execution_count": 4,
      "outputs": [
        {
          "output_type": "stream",
          "name": "stdout",
          "text": [
            "Elemento del frente:Manzana\n",
            "Nuevo elemento del frente: Banana\n"
          ]
        }
      ]
    }
  ]
}